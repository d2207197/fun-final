{
 "metadata": {
  "name": ""
 },
 "nbformat": 3,
 "nbformat_minor": 0,
 "worksheets": [
  {
   "cells": [
    {
     "cell_type": "code",
     "collapsed": false,
     "input": [
      "%libraryDependencies += \"org.scala-lang\" % \"scala-parser-combinators\" % \"2.11.0-M4\""
     ],
     "language": "python",
     "metadata": {
      "slideshow": {
       "slide_type": "skip"
      }
     },
     "outputs": [
      {
       "output_type": "stream",
       "stream": "stdout",
       "text": []
      },
      {
       "output_type": "stream",
       "stream": "stderr",
       "text": []
      }
     ],
     "prompt_number": 1
    },
    {
     "cell_type": "code",
     "collapsed": false,
     "input": [
      "%resolvers += \"Local\" at \"file:///Users/joe/.m2/repository\""
     ],
     "language": "python",
     "metadata": {
      "slideshow": {
       "slide_type": "skip"
      }
     },
     "outputs": [
      {
       "output_type": "stream",
       "stream": "stdout",
       "text": []
      },
      {
       "output_type": "stream",
       "stream": "stderr",
       "text": []
      }
     ],
     "prompt_number": 2
    },
    {
     "cell_type": "code",
     "collapsed": false,
     "input": [
      "%libraryDependencies += \"nlplab\" % \"linggle_2.11\" % \"0.1-SNAPSHOT\""
     ],
     "language": "python",
     "metadata": {
      "slideshow": {
       "slide_type": "skip"
      }
     },
     "outputs": [
      {
       "output_type": "stream",
       "stream": "stderr",
       "text": []
      },
      {
       "output_type": "stream",
       "stream": "stdout",
       "text": []
      }
     ],
     "prompt_number": 3
    },
    {
     "cell_type": "code",
     "collapsed": false,
     "input": [
      "%update"
     ],
     "language": "python",
     "metadata": {
      "slideshow": {
       "slide_type": "skip"
      }
     },
     "outputs": [
      {
       "output_type": "stream",
       "stream": "stdout",
       "text": [
        "[warn] Binary version (2.11.0-M4) for dependency org.scala-lang#scala-parser-combinators;2.11.0-M4\n",
        "[warn] \tin org.example#Untitled;1 differs from Scala binary version in project (2.10).\n",
        "[info] Resolving org.scala-lang#scala-parser-combinators;2.11.0-M4 ...\n",
        "[info] Resolving nlplab#linggle_2.11;0.1-SNAPSHOT ...\n"
       ]
      },
      {
       "output_type": "stream",
       "stream": "stdout",
       "text": [
        "[info] Resolving org.scala-lang#scala-library;2.11.1 ...\n"
       ]
      },
      {
       "output_type": "stream",
       "stream": "stderr",
       "text": []
      },
      {
       "output_type": "stream",
       "stream": "stdout",
       "text": []
      }
     ]
    },
    {
     "cell_type": "code",
     "collapsed": false,
     "input": [
      "import nlplab._"
     ],
     "language": "python",
     "metadata": {
      "slideshow": {
       "slide_type": "skip"
      }
     },
     "outputs": [
      {
       "output_type": "stream",
       "stream": "stderr",
       "text": []
      },
      {
       "output_type": "stream",
       "stream": "stdout",
       "text": []
      }
     ],
     "prompt_number": 1
    },
    {
     "cell_type": "code",
     "collapsed": false,
     "input": [
      "LinggleQuery.main(Array())"
     ],
     "language": "python",
     "metadata": {
      "slideshow": {
       "slide_type": "skip"
      }
     },
     "outputs": [
      {
       "output_type": "stream",
       "stream": "stdout",
       "text": [
        "\u001b[33mquery:a b c\u001b[0m\n",
        "  LQ(ts: \"a b c\", l: 3, ps: 012, fs: [])\n",
        "\n"
       ]
      },
      {
       "output_type": "stream",
       "stream": "stderr",
       "text": []
      }
     ],
     "prompt_number": 3
    },
    {
     "cell_type": "code",
     "collapsed": false,
     "input": [
      "LinggleQuery.parse(\"a b c\").get"
     ],
     "language": "python",
     "metadata": {
      "slideshow": {
       "slide_type": "skip"
      }
     },
     "outputs": [
      {
       "output_type": "stream",
       "stream": "stdout",
       "text": []
      },
      {
       "output_type": "stream",
       "stream": "stderr",
       "text": []
      },
      {
       "metadata": {},
       "output_type": "pyout",
       "prompt_number": 5,
       "text": [
        "List(LQ(ts: \"a b c\", l: 3, ps: 012, fs: []))"
       ]
      }
     ],
     "prompt_number": 5
    },
    {
     "cell_type": "code",
     "collapsed": false,
     "input": [
      "LinggleQuery.queryDemo(\"a b c\")"
     ],
     "language": "python",
     "metadata": {
      "slideshow": {
       "slide_type": "slide"
      }
     },
     "outputs": [
      {
       "output_type": "stream",
       "stream": "stdout",
       "text": [
        "\u001b[33mquery:a b c\u001b[0m\n",
        "  LQ(ts: \"a b c\", l: 3, ps: 012, fs: [])\n",
        "\n"
       ]
      },
      {
       "output_type": "stream",
       "stream": "stderr",
       "text": []
      }
     ],
     "prompt_number": 2
    },
    {
     "cell_type": "code",
     "collapsed": false,
     "input": [
      "LinggleQuery.queryDemo(\"a _ c\")"
     ],
     "language": "python",
     "metadata": {},
     "outputs": [
      {
       "output_type": "stream",
       "stream": "stdout",
       "text": [
        "\u001b[33mquery:a _ c\u001b[0m\n",
        "  LQ(ts: \"a c\", l: 3, ps: 02, fs: [])\n",
        "\n"
       ]
      },
      {
       "output_type": "stream",
       "stream": "stderr",
       "text": []
      }
     ],
     "prompt_number": 3
    },
    {
     "cell_type": "code",
     "collapsed": false,
     "input": [
      "LinggleQuery.queryDemo(\"a * c\")"
     ],
     "language": "python",
     "metadata": {},
     "outputs": [
      {
       "output_type": "stream",
       "stream": "stdout",
       "text": [
        "\u001b[33mquery:a * c\u001b[0m\n",
        "  LQ(ts: \"a c\", l: 2, ps: 01, fs: [])\n",
        "  LQ(ts: \"a c\", l: 3, ps: 02, fs: [])\n",
        "  LQ(ts: \"a c\", l: 4, ps: 03, fs: [])\n",
        "  LQ(ts: \"a c\", l: 5, ps: 04, fs: [])\n",
        "\n"
       ]
      },
      {
       "output_type": "stream",
       "stream": "stderr",
       "text": []
      }
     ],
     "prompt_number": 4
    },
    {
     "cell_type": "code",
     "collapsed": false,
     "input": [
      "LinggleQuery.queryDemo(\"a|b|c d\")"
     ],
     "language": "python",
     "metadata": {
      "slideshow": {
       "slide_type": "slide"
      }
     },
     "outputs": [
      {
       "output_type": "stream",
       "stream": "stdout",
       "text": [
        "\u001b[33mquery:a|b|c d\u001b[0m\n",
        "  LQ(ts: \"a d\", l: 2, ps: 01, fs: [])\n",
        "  LQ(ts: \"b d\", l: 2, ps: 01, fs: [])\n",
        "  LQ(ts: \"c d\", l: 2, ps: 01, fs: [])\n",
        "\n"
       ]
      },
      {
       "output_type": "stream",
       "stream": "stderr",
       "text": []
      }
     ],
     "prompt_number": 9
    },
    {
     "cell_type": "code",
     "collapsed": false,
     "input": [
      "LinggleQuery.queryDemo(\"a adj. b\")"
     ],
     "language": "python",
     "metadata": {},
     "outputs": [
      {
       "output_type": "stream",
       "stream": "stdout",
       "text": [
        "\u001b[33mquery:a adj. b\u001b[0m\n",
        "  LQ(ts: \"a b\", l: 3, ps: 02, fs: [(1,adj.)])\n",
        "\n"
       ]
      },
      {
       "output_type": "stream",
       "stream": "stderr",
       "text": []
      }
     ],
     "prompt_number": 6
    },
    {
     "cell_type": "code",
     "collapsed": false,
     "input": [
      "LinggleQuery.queryDemo(\"a ?b\")"
     ],
     "language": "python",
     "metadata": {},
     "outputs": [
      {
       "output_type": "stream",
       "stream": "stdout",
       "text": [
        "\u001b[33mquery:a ?b\u001b[0m\n",
        "  LQ(ts: \"a\", l: 1, ps: 0, fs: [])\n",
        "  LQ(ts: \"a b\", l: 2, ps: 01, fs: [])\n",
        "\n"
       ]
      },
      {
       "output_type": "stream",
       "stream": "stderr",
       "text": []
      }
     ],
     "prompt_number": 8
    },
    {
     "cell_type": "code",
     "collapsed": false,
     "input": [
      "LinggleQuery.queryDemo(\"?a|b * ?adj. d\")"
     ],
     "language": "python",
     "metadata": {
      "slideshow": {
       "slide_type": "slide"
      }
     },
     "outputs": [
      {
       "output_type": "stream",
       "stream": "stdout",
       "text": [
        "\u001b[33mquery:?a|b * ?adj. d\u001b[0m\n",
        "  LQ(ts: \"d\", l: 1, ps: 0, fs: [])\n",
        "  LQ(ts: \"d\", l: 2, ps: 1, fs: [])\n",
        "  LQ(ts: \"d\", l: 3, ps: 2, fs: [])\n",
        "  LQ(ts: \"d\", l: 4, ps: 3, fs: [])\n",
        "  LQ(ts: \"d\", l: 5, ps: 4, fs: [])\n",
        "  LQ(ts: \"a d\", l: 2, ps: 01, fs: [])\n",
        "  LQ(ts: \"a d\", l: 3, ps: 02, fs: [])\n",
        "  LQ(ts: \"a d\", l: 4, ps: 03, fs: [])\n",
        "  LQ(ts: \"a d\", l: 5, ps: 04, fs: [])\n",
        "  LQ(ts: \"b d\", l: 2, ps: 01, fs: [])\n",
        "  LQ(ts: \"b d\", l: 3, ps: 02, fs: [])\n",
        "  LQ(ts: \"b d\", l: 4, ps: 03, fs: [])\n",
        "  LQ(ts: \"b d\", l: 5, ps: 04, fs: [])\n",
        "  LQ(ts: \"d\", l: 2, ps: 1, fs: [(0,adj.)])\n",
        "  LQ(ts: \"d\", l: 3, ps: 2, fs: [(1,adj.)])\n",
        "  LQ(ts: \"d\", l: 4, ps: 3, fs: [(2,adj.)])\n",
        "  LQ(ts: \"d\", l: 5, ps: 4, fs: [(3,adj.)])\n",
        "  LQ(ts: \"a d\", l: 3, ps: 02, fs: [(1,adj.)])\n",
        "  LQ(ts: \"a d\", l: 4, ps: 03, fs: [(2,adj.)])\n",
        "  LQ(ts: \"a d\", l: 5, ps: 04, fs: [(3,adj.)])\n",
        "  LQ(ts: \"b d\", l: 3, ps: 02, fs: [(1,adj.)])\n",
        "  LQ(ts: \"b d\", l: 4, ps: 03, fs: [(2,adj.)])\n",
        "  LQ(ts: \"b d\", l: 5, ps: 04, fs: [(3,adj.)])\n",
        "\n"
       ]
      },
      {
       "output_type": "stream",
       "stream": "stderr",
       "text": []
      }
     ],
     "prompt_number": 11
    },
    {
     "cell_type": "code",
     "collapsed": false,
     "input": [],
     "language": "python",
     "metadata": {},
     "outputs": []
    }
   ],
   "metadata": {}
  }
 ]
}