{
 "metadata": {
  "name": "",
  "signature": "sha256:552981c08c23d77ad1baa0224ed3165b9fc73f050635a26d53d2861cbfd3b443"
 },
 "nbformat": 3,
 "nbformat_minor": 0,
 "worksheets": [
  {
   "cells": [
    {
     "cell_type": "code",
     "collapsed": false,
     "input": [
      "%libraryDependencies += \"org.scala-lang\" % \"scala-parser-combinators\" % \"2.11.0-M4\""
     ],
     "language": "python",
     "metadata": {
      "slideshow": {
       "slide_type": "skip"
      }
     },
     "outputs": [
      {
       "output_type": "stream",
       "stream": "stdout",
       "text": []
      },
      {
       "output_type": "stream",
       "stream": "stderr",
       "text": []
      }
     ],
     "prompt_number": 1
    },
    {
     "cell_type": "code",
     "collapsed": false,
     "input": [
      "%resolvers += \"Local\" at \"file:///Users/joe/.m2/repository\""
     ],
     "language": "python",
     "metadata": {
      "slideshow": {
       "slide_type": "skip"
      }
     },
     "outputs": [
      {
       "output_type": "stream",
       "stream": "stdout",
       "text": []
      },
      {
       "output_type": "stream",
       "stream": "stderr",
       "text": []
      }
     ],
     "prompt_number": 2
    },
    {
     "cell_type": "code",
     "collapsed": false,
     "input": [
      "%libraryDependencies += \"nlplab\" % \"linggle_2.11\" % \"0.1-SNAPSHOT\""
     ],
     "language": "python",
     "metadata": {
      "slideshow": {
       "slide_type": "skip"
      }
     },
     "outputs": [
      {
       "output_type": "stream",
       "stream": "stdout",
       "text": []
      },
      {
       "output_type": "stream",
       "stream": "stderr",
       "text": []
      }
     ],
     "prompt_number": 3
    },
    {
     "cell_type": "code",
     "collapsed": false,
     "input": [
      "%update"
     ],
     "language": "python",
     "metadata": {
      "slideshow": {
       "slide_type": "skip"
      }
     },
     "outputs": [
      {
       "output_type": "stream",
       "stream": "stdout",
       "text": [
        "[warn] Binary version (2.11.0-M4) for dependency org.scala-lang#scala-parser-combinators;2.11.0-M4\n",
        "[warn] \tin org.example#Untitled;1 differs from Scala binary version in project (2.10).\n",
        "[info] Resolving org.scala-lang#scala-parser-combinators;2.11.0-M4 ...\n",
        "[info] Resolving nlplab#linggle_2.11;0.1-SNAPSHOT ...\n"
       ]
      },
      {
       "output_type": "stream",
       "stream": "stdout",
       "text": [
        "[info] Resolving org.scala-lang#scala-library;2.11.1 ...\n"
       ]
      },
      {
       "output_type": "stream",
       "stream": "stderr",
       "text": []
      }
     ],
     "prompt_number": 0
    },
    {
     "cell_type": "code",
     "collapsed": false,
     "input": [
      "import nlplab._"
     ],
     "language": "python",
     "metadata": {
      "slideshow": {
       "slide_type": "skip"
      }
     },
     "outputs": [
      {
       "output_type": "stream",
       "stream": "stderr",
       "text": []
      },
      {
       "output_type": "stream",
       "stream": "stdout",
       "text": []
      }
     ],
     "prompt_number": 1
    },
    {
     "cell_type": "code",
     "collapsed": false,
     "input": [
      "LinggleQuery.QueryParser.parse(\"A B C\").get"
     ],
     "language": "python",
     "metadata": {
      "slideshow": {
       "slide_type": "slide"
      }
     },
     "outputs": [
      {
       "output_type": "stream",
       "stream": "stdout",
       "text": []
      },
      {
       "output_type": "stream",
       "stream": "stderr",
       "text": []
      },
      {
       "metadata": {},
       "output_type": "pyout",
       "prompt_number": 2,
       "text": [
        "List(Term(A), Term(B), Term(C))"
       ]
      }
     ],
     "prompt_number": 2
    },
    {
     "cell_type": "code",
     "collapsed": false,
     "input": [
      "LinggleQuery.QueryParser.parse(\"A _ * C\").get"
     ],
     "language": "python",
     "metadata": {
      "slideshow": {
       "slide_type": "slide"
      }
     },
     "outputs": [
      {
       "output_type": "stream",
       "stream": "stdout",
       "text": []
      },
      {
       "output_type": "stream",
       "stream": "stderr",
       "text": []
      },
      {
       "metadata": {},
       "output_type": "pyout",
       "prompt_number": 15,
       "text": [
        "List(Term(A), WildCard, AnyWildCard, Term(C))"
       ]
      }
     ],
     "prompt_number": 15
    },
    {
     "cell_type": "code",
     "collapsed": false,
     "input": [
      "LinggleQuery.QueryParser.parse(\"A|B|C D ?E\").get"
     ],
     "language": "python",
     "metadata": {
      "slideshow": {
       "slide_type": "slide"
      }
     },
     "outputs": [
      {
       "output_type": "stream",
       "stream": "stdout",
       "text": []
      },
      {
       "output_type": "stream",
       "stream": "stderr",
       "text": []
      },
      {
       "metadata": {},
       "output_type": "pyout",
       "prompt_number": 6,
       "text": [
        "List(Or(Term(A), Term(B), Term(C)), Term(D), Maybe(Term(E)))"
       ]
      }
     ],
     "prompt_number": 6
    },
    {
     "cell_type": "code",
     "collapsed": false,
     "input": [
      "LinggleQuery.QueryParser.parse(\"A _ B|C ?adj.|n. * v. ?D\").get"
     ],
     "language": "python",
     "metadata": {
      "slideshow": {
       "slide_type": "slide"
      }
     },
     "outputs": [
      {
       "output_type": "stream",
       "stream": "stderr",
       "text": []
      },
      {
       "output_type": "stream",
       "stream": "stdout",
       "text": []
      },
      {
       "metadata": {},
       "output_type": "pyout",
       "prompt_number": 5,
       "text": [
        "List(Term(A), WildCard, Or(Term(B), Term(C)), Maybe(Or(POS(adj.), POS(n.))), AnyWildCard, POS(v.), Maybe(Term(D)))"
       ]
      }
     ],
     "prompt_number": 5
    },
    {
     "cell_type": "code",
     "collapsed": false,
     "input": [
      "LinggleQuery.queryDemo(\"A B C\")"
     ],
     "language": "python",
     "metadata": {
      "slideshow": {
       "slide_type": "slide"
      }
     },
     "outputs": [
      {
       "output_type": "stream",
       "stream": "stdout",
       "text": [
        "List(Term(A), Term(B), Term(C))\n",
        "query:A B C\n",
        "  LQ(ts: \"A B C\", l: 3, ps: 012, fs: [])\n",
        "\n"
       ]
      },
      {
       "output_type": "stream",
       "stream": "stderr",
       "text": []
      }
     ],
     "prompt_number": 12
    },
    {
     "cell_type": "code",
     "collapsed": false,
     "input": [
      "LinggleQuery.queryDemo(\"A _ B\")"
     ],
     "language": "python",
     "metadata": {},
     "outputs": [
      {
       "output_type": "stream",
       "stream": "stdout",
       "text": [
        "List(Term(A), WildCard, Term(B))\n",
        "query:A _ B\n",
        "  LQ(ts: \"A B\", l: 3, ps: 02, fs: [])\n",
        "\n"
       ]
      },
      {
       "output_type": "stream",
       "stream": "stderr",
       "text": []
      }
     ],
     "prompt_number": 13
    },
    {
     "cell_type": "code",
     "collapsed": false,
     "input": [
      "LinggleQuery.queryDemo(\"A * B\")"
     ],
     "language": "python",
     "metadata": {},
     "outputs": [
      {
       "output_type": "stream",
       "stream": "stdout",
       "text": [
        "List(Term(A), AnyWildCard, Term(B))\n",
        "query:A * B\n",
        "  LQ(ts: \"A B\", l: 2, ps: 01, fs: [])\n",
        "  LQ(ts: \"A B\", l: 3, ps: 02, fs: [])\n",
        "  LQ(ts: \"A B\", l: 4, ps: 03, fs: [])\n",
        "  LQ(ts: \"A B\", l: 5, ps: 04, fs: [])\n",
        "\n"
       ]
      },
      {
       "output_type": "stream",
       "stream": "stderr",
       "text": []
      }
     ],
     "prompt_number": 14
    },
    {
     "cell_type": "code",
     "collapsed": false,
     "input": [
      "LinggleQuery.queryDemo(\"A|B|C D\")"
     ],
     "language": "python",
     "metadata": {
      "slideshow": {
       "slide_type": "slide"
      }
     },
     "outputs": [
      {
       "output_type": "stream",
       "stream": "stdout",
       "text": [
        "List(Or(Term(A), Term(B), Term(C)), Term(D))\n",
        "query:A|B|C D\n",
        "  LQ(ts: \"A D\", l: 2, ps: 01, fs: [])\n",
        "  LQ(ts: \"B D\", l: 2, ps: 01, fs: [])\n",
        "  LQ(ts: \"C D\", l: 2, ps: 01, fs: [])\n",
        "\n"
       ]
      },
      {
       "output_type": "stream",
       "stream": "stderr",
       "text": []
      }
     ],
     "prompt_number": 11
    },
    {
     "cell_type": "code",
     "collapsed": false,
     "input": [
      "LinggleQuery.queryDemo(\"A adj. B\")"
     ],
     "language": "python",
     "metadata": {},
     "outputs": [
      {
       "output_type": "stream",
       "stream": "stdout",
       "text": [
        "List(Term(a), POS(adj.), Term(b))\n",
        "query:a adj. b\n",
        "  LQ(ts: \"a b\", l: 3, ps: 02, fs: [(1,adj.)])\n",
        "\n"
       ]
      },
      {
       "output_type": "stream",
       "stream": "stderr",
       "text": []
      }
     ],
     "prompt_number": 6
    },
    {
     "cell_type": "code",
     "collapsed": false,
     "input": [
      "LinggleQuery.queryDemo(\"A ?B\")"
     ],
     "language": "python",
     "metadata": {},
     "outputs": [
      {
       "output_type": "stream",
       "stream": "stdout",
       "text": [
        "List(Term(a), Maybe(Term(b)))\n",
        "query:a ?b\n",
        "  LQ(ts: \"a\", l: 1, ps: 0, fs: [])\n",
        "  LQ(ts: \"a b\", l: 2, ps: 01, fs: [])\n",
        "\n"
       ]
      },
      {
       "output_type": "stream",
       "stream": "stderr",
       "text": []
      }
     ],
     "prompt_number": 7
    },
    {
     "cell_type": "code",
     "collapsed": false,
     "input": [
      "LinggleQuery.queryDemo(\"?A|B * ?adj. _ C\")"
     ],
     "language": "python",
     "metadata": {
      "slideshow": {
       "slide_type": "slide"
      }
     },
     "outputs": [
      {
       "output_type": "stream",
       "stream": "stderr",
       "text": []
      },
      {
       "output_type": "stream",
       "stream": "stdout",
       "text": [
        "List(Maybe(Or(Term(A), Term(B))), AnyWildCard, Maybe(POS(adj.)), WildCard, Term(C))\n",
        "query:?A|B * ?adj. _ C\n",
        "  LQ(ts: \"C\", l: 2, ps: 1, fs: [])\n",
        "  LQ(ts: \"C\", l: 3, ps: 2, fs: [])\n",
        "  LQ(ts: \"C\", l: 4, ps: 3, fs: [])\n",
        "  LQ(ts: \"C\", l: 5, ps: 4, fs: [])\n",
        "  LQ(ts: \"A C\", l: 3, ps: 02, fs: [])\n",
        "  LQ(ts: \"A C\", l: 4, ps: 03, fs: [])\n",
        "  LQ(ts: \"A C\", l: 5, ps: 04, fs: [])\n",
        "  LQ(ts: \"B C\", l: 3, ps: 02, fs: [])\n",
        "  LQ(ts: \"B C\", l: 4, ps: 03, fs: [])\n",
        "  LQ(ts: \"B C\", l: 5, ps: 04, fs: [])\n",
        "  LQ(ts: \"C\", l: 3, ps: 2, fs: [(0,adj.)])\n",
        "  LQ(ts: \"C\", l: 4, ps: 3, fs: [(1,adj.)])\n",
        "  LQ(ts: \"C\", l: 5, ps: 4, fs: [(2,adj.)])\n",
        "  LQ(ts: \"A C\", l: 4, ps: 03, fs: [(1,adj.)])\n",
        "  LQ(ts: \"A C\", l: 5, ps: 04, fs: [(2,adj.)])\n",
        "  LQ(ts: \"B C\", l: 4, ps: 03, fs: [(1,adj.)])\n",
        "  LQ(ts: \"B C\", l: 5, ps: 04, fs: [(2,adj.)])\n",
        "\n"
       ]
      }
     ],
     "prompt_number": 18
    }
   ],
   "metadata": {}
  }
 ]
}