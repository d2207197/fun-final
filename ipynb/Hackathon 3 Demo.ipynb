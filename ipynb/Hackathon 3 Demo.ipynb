{
 "metadata": {
  "name": "",
  "signature": "sha256:02193b4b0a4ddb01f3e3a77de26ff7fa820acab0ed4878b4c1a2d0af2ee1f22d"
 },
 "nbformat": 3,
 "nbformat_minor": 0,
 "worksheets": [
  {
   "cells": [
    {
     "cell_type": "code",
     "collapsed": false,
     "input": [
      "%libraryDependencies += \"org.scala-lang\" % \"scala-parser-combinators\" % \"2.11.0-M4\""
     ],
     "language": "python",
     "metadata": {
      "slideshow": {
       "slide_type": "skip"
      }
     },
     "outputs": [
      {
       "output_type": "stream",
       "stream": "stderr",
       "text": []
      },
      {
       "output_type": "stream",
       "stream": "stdout",
       "text": []
      }
     ],
     "prompt_number": 1
    },
    {
     "cell_type": "code",
     "collapsed": false,
     "input": [
      "%resolvers += \"Local\" at \"file:///Users/joe/.m2/repository\""
     ],
     "language": "python",
     "metadata": {
      "slideshow": {
       "slide_type": "skip"
      }
     },
     "outputs": [
      {
       "output_type": "stream",
       "stream": "stderr",
       "text": []
      },
      {
       "output_type": "stream",
       "stream": "stdout",
       "text": []
      }
     ],
     "prompt_number": 2
    },
    {
     "cell_type": "code",
     "collapsed": false,
     "input": [
      "%libraryDependencies += \"nlplab\" % \"linggle_2.11\" % \"1.0-SNAPSHOT\""
     ],
     "language": "python",
     "metadata": {
      "slideshow": {
       "slide_type": "skip"
      }
     },
     "outputs": [
      {
       "output_type": "stream",
       "stream": "stderr",
       "text": []
      },
      {
       "output_type": "stream",
       "stream": "stdout",
       "text": []
      }
     ],
     "prompt_number": 3
    },
    {
     "cell_type": "code",
     "collapsed": false,
     "input": [
      "%libraryDependencies += \"org.apache.hbase\" % \"hbase\" % \"0.94.18\""
     ],
     "language": "python",
     "metadata": {},
     "outputs": [
      {
       "output_type": "stream",
       "stream": "stderr",
       "text": []
      },
      {
       "output_type": "stream",
       "stream": "stdout",
       "text": []
      }
     ],
     "prompt_number": 4
    },
    {
     "cell_type": "code",
     "collapsed": false,
     "input": [
      "%libraryDependencies += \"org.apache.hadoop\" % \"hadoop-core\" % \"1.2.1\""
     ],
     "language": "python",
     "metadata": {},
     "outputs": [
      {
       "output_type": "stream",
       "stream": "stdout",
       "text": []
      }
     ],
     "prompt_number": 5
    },
    {
     "cell_type": "code",
     "collapsed": false,
     "input": [
      "%libraryDependencies += \"org.apache.hadoop\" % \"hadoop-client\" % \"1.2.1\""
     ],
     "language": "python",
     "metadata": {},
     "outputs": [
      {
       "output_type": "stream",
       "stream": "stdout",
       "text": []
      },
      {
       "output_type": "stream",
       "stream": "stderr",
       "text": []
      }
     ],
     "prompt_number": 6
    },
    {
     "cell_type": "code",
     "collapsed": false,
     "input": [
      "%libraryDependencies += \"com.fasterxml.jackson.core\" % \"jackson-core\" % \"2.4.0\""
     ],
     "language": "python",
     "metadata": {},
     "outputs": [
      {
       "output_type": "stream",
       "stream": "stderr",
       "text": []
      },
      {
       "output_type": "stream",
       "stream": "stdout",
       "text": []
      }
     ],
     "prompt_number": 7
    },
    {
     "cell_type": "code",
     "collapsed": false,
     "input": [
      "%libraryDependencies += \"com.fasterxml.jackson.core\" % \"jackson-databind\" % \"2.4.0-rc3\""
     ],
     "language": "python",
     "metadata": {},
     "outputs": [
      {
       "output_type": "stream",
       "stream": "stderr",
       "text": []
      },
      {
       "output_type": "stream",
       "stream": "stdout",
       "text": []
      }
     ],
     "prompt_number": 8
    },
    {
     "cell_type": "code",
     "collapsed": false,
     "input": [
      "%libraryDependencies += \"com.fasterxml.jackson.module\" % \"jackson-module-scala_2.10\" % \"2.4.0-rc2\""
     ],
     "language": "python",
     "metadata": {},
     "outputs": [
      {
       "output_type": "stream",
       "stream": "stderr",
       "text": []
      },
      {
       "output_type": "stream",
       "stream": "stdout",
       "text": []
      }
     ],
     "prompt_number": 9
    },
    {
     "cell_type": "code",
     "collapsed": false,
     "input": [
      "%libraryDependencies += \"org.scala-lang\" % \"scala-parser-combinators\" % \"2.11.0-M4\""
     ],
     "language": "python",
     "metadata": {},
     "outputs": [
      {
       "output_type": "stream",
       "stream": "stderr",
       "text": []
      },
      {
       "output_type": "stream",
       "stream": "stdout",
       "text": []
      }
     ],
     "prompt_number": 10
    },
    {
     "cell_type": "code",
     "collapsed": false,
     "input": [
      "%update"
     ],
     "language": "python",
     "metadata": {
      "slideshow": {
       "slide_type": "skip"
      }
     },
     "outputs": [
      {
       "output_type": "stream",
       "stream": "stdout",
       "text": [
        "[warn] Binary version (2.11.0-M4) for dependency org.scala-lang#scala-parser-combinators;2.11.0-M4\n",
        "[warn] \tin org.example#Untitled;1 differs from Scala binary version in project (2.10).\n",
        "[info] Resolving org.scala-lang#scala-parser-combinators;2.11.0-M4 ...\n",
        "[info] Resolving nlplab#linggle_2.11;1.0-SNAPSHOT ...\n"
       ]
      },
      {
       "output_type": "stream",
       "stream": "stdout",
       "text": [
        "[info] Resolving org.scala-lang#scala-library;2.11.1 ...\n",
        "[info] Resolving com.typesafe.play#twirl-api_2.11;1.0.0 ...\n",
        "[info] Resolving org.apache.commons#commons-lang3;3.1 ...\n",
        "[info] Resolving org.scala-lang.modules#scala-xml_2.11;1.0.1 ...\n",
        "[info] Resolving com.typesafe.play#play_2.11;2.3.0 ...\n",
        "[info] Resolving com.typesafe.play#build-link;2.3.0 ...\n",
        "[info] Resolving com.typesafe.play#play-exceptions;2.3.0 ...\n",
        "[info] Resolving org.javassist#javassist;3.18.2-GA ...\n",
        "[info] Resolving com.typesafe.play#play-iteratees_2.11;2.3.0 ...\n",
        "[info] Resolving org.scala-stm#scala-stm_2.11;0.7 ...\n",
        "[info] Resolving com.typesafe#config;1.2.0 ...\n",
        "[info] Resolving com.typesafe.play#play-json_2.11;2.3.0 ...\n",
        "[info] Resolving com.typesafe.play#play-functional_2.11;2.3.0 ...\n",
        "[info] Resolving com.typesafe.play#play-datacommons_2.11;2.3.0 ...\n",
        "[info] Resolving joda-time#joda-time;2.3 ...\n",
        "[info] Resolving org.joda#joda-convert;1.6 ...\n",
        "[info] Resolving com.fasterxml.jackson.core#jackson-annotations;2.3.2 ...\n",
        "[info] Resolving org.scala-lang#scala-reflect;2.11.1 ...\n",
        "[info] Resolving org.scala-lang.modules#scala-parser-combinators_2.11;1.0.1 ...\n",
        "[info] Resolving io.netty#netty;3.9.1.Final ...\n"
       ]
      },
      {
       "output_type": "stream",
       "stream": "stdout",
       "text": [
        "[info] Resolving com.typesafe.netty#netty-http-pipelining;1.1.2 ...\n",
        "[info] Resolving org.slf4j#slf4j-api;1.7.6 ...\n"
       ]
      },
      {
       "output_type": "stream",
       "stream": "stdout",
       "text": [
        "[info] Resolving org.slf4j#jul-to-slf4j;1.7.6 ...\n",
        "[info] Resolving org.slf4j#jcl-over-slf4j;1.7.6 ...\n"
       ]
      },
      {
       "output_type": "stream",
       "stream": "stdout",
       "text": [
        "[info] Resolving ch.qos.logback#logback-core;1.1.1 ...\n"
       ]
      },
      {
       "output_type": "stream",
       "stream": "stdout",
       "text": [
        "[info] Resolving ch.qos.logback#logback-classic;1.1.1 ...\n"
       ]
      },
      {
       "output_type": "stream",
       "stream": "stdout",
       "text": [
        "[info] Resolving com.typesafe.akka#akka-actor_2.11;2.3.3 ...\n",
        "[info] Resolving com.typesafe#config;1.2.1 ...\n"
       ]
      },
      {
       "output_type": "stream",
       "stream": "stdout",
       "text": [
        "[info] Resolving com.typesafe.akka#akka-slf4j_2.11;2.3.3 ...\n",
        "[info] Resolving commons-codec#commons-codec;1.9 ...\n"
       ]
      },
      {
       "output_type": "stream",
       "stream": "stdout",
       "text": [
        "[info] Resolving xerces#xercesImpl;2.11.0 ...\n"
       ]
      },
      {
       "output_type": "stream",
       "stream": "stdout",
       "text": [
        "[info] Resolving xml-apis#xml-apis;1.4.01 ...\n",
        "[info] Resolving javax.transaction#jta;1.1 ...\n"
       ]
      },
      {
       "output_type": "stream",
       "stream": "stdout",
       "text": [
        "[info] Resolving com.typesafe.play#play-jdbc_2.11;2.3.0 ...\n",
        "[info] Resolving com.jolbox#bonecp;0.8.0.RELEASE ...\n",
        "[info] Resolving com.google.guava#guava;15.0 ...\n",
        "[info] Resolving com.h2database#h2;1.3.175 ...\n",
        "[info] Resolving tyrex#tyrex;1.0.1 ...\n",
        "[info] Resolving com.typesafe.play#anorm_2.11;2.3.0 ...\n",
        "[info] Resolving com.typesafe.play#play-cache_2.11;2.3.0 ...\n",
        "[info] Resolving net.sf.ehcache#ehcache-core;2.6.8 ...\n",
        "[info] Resolving com.typesafe.play#play-ws_2.11;2.3.0 ...\n",
        "[info] Resolving com.google.guava#guava;16.0.1 ...\n",
        "[info] Resolving com.ning#async-http-client;1.8.8 ...\n",
        "[info] Resolving oauth.signpost#signpost-core;1.2.1.2 ...\n",
        "[info] Resolving oauth.signpost#signpost-commonshttp4;1.2.1.2 ...\n",
        "[info] Resolving org.apache.httpcomponents#httpcore;4.0.1 ...\n",
        "[info] Resolving org.apache.httpcomponents#httpclient;4.0.1 ...\n",
        "[info] Resolving commons-logging#commons-logging;1.1.1 ...\n",
        "[info] Resolving org.apache.hbase#hbase;0.94.18 ...\n",
        "[info] Resolving com.yammer.metrics#metrics-core;2.1.2 ...\n",
        "[info] Resolving commons-cli#commons-cli;1.2 ...\n",
        "[info] Resolving commons-configuration#commons-configuration;1.6 ...\n",
        "[info] Resolving commons-collections#commons-collections;3.2.1 ...\n",
        "[info] Resolving commons-digester#commons-digester;1.8 ...\n",
        "[info] Resolving commons-beanutils#commons-beanutils;1.7.0 ...\n",
        "[info] Resolving commons-beanutils#commons-beanutils-core;1.8.0 ...\n",
        "[info] Resolving com.github.stephenc.high-scale-lib#high-scale-lib;1.1.1 ...\n",
        "[info] Resolving commons-httpclient#commons-httpclient;3.1 ...\n",
        "[info] Resolving commons-io#commons-io;2.1 ...\n",
        "[info] Resolving commons-lang#commons-lang;2.5 ...\n",
        "[info] Resolving log4j#log4j;1.2.16 ...\n",
        "[info] Resolving org.apache.avro#avro;1.5.3 ...\n",
        "[info] Resolving org.codehaus.jackson#jackson-mapper-asl;1.7.3 ...\n",
        "[info] Resolving org.xerial.snappy#snappy-java;1.0.3.2 ...\n",
        "[info] Resolving org.apache.avro#avro-ipc;1.5.3 ...\n",
        "[info] Resolving org.mortbay.jetty#jetty;6.1.26 ...\n",
        "[info] Resolving org.mortbay.jetty#jetty-util;6.1.26 ...\n",
        "[info] Resolving org.mortbay.jetty#servlet-api;2.5-20081211 ...\n",
        "[info] Resolving org.jboss.netty#netty;3.2.4.Final ...\n",
        "[info] Resolving org.apache.velocity#velocity;1.7 ...\n"
       ]
      },
      {
       "output_type": "stream",
       "stream": "stdout",
       "text": [
        "[info] Resolving org.apache.zookeeper#zookeeper;3.4.5 ...\n",
        "[info] Resolving org.apache.thrift#libthrift;0.8.0 ...\n"
       ]
      },
      {
       "output_type": "stream",
       "stream": "stdout",
       "text": [
        "[info] Resolving org.apache.httpcomponents#httpclient;4.1.2 ...\n",
        "[info] Resolving org.apache.httpcomponents#httpcore;4.1.3 ...\n"
       ]
      },
      {
       "output_type": "stream",
       "stream": "stdout",
       "text": [
        "[info] Resolving org.jruby#jruby-complete;1.6.5 ...\n",
        "[info] Resolving org.mortbay.jetty#jsp-2.1;6.1.14 ...\n",
        "[info] Resolving org.eclipse.jdt#core;3.1.1 ...\n"
       ]
      },
      {
       "output_type": "stream",
       "stream": "stdout",
       "text": [
        "[info] Resolving org.mortbay.jetty#jsp-api-2.1;6.1.14 ...\n",
        "[info] Resolving org.mortbay.jetty#servlet-api-2.5;6.1.14 ...\n",
        "[info] Resolving org.codehaus.jackson#jackson-core-asl;1.8.8 ...\n"
       ]
      },
      {
       "output_type": "stream",
       "stream": "stdout",
       "text": [
        "[info] Resolving org.codehaus.jackson#jackson-mapper-asl;1.8.8 ...\n",
        "[info] Resolving org.codehaus.jackson#jackson-jaxrs;1.8.8 ...\n",
        "[info] Resolving org.codehaus.jackson#jackson-xc;1.8.8 ...\n",
        "[info] Resolving org.slf4j#slf4j-log4j12;1.4.3 ...\n"
       ]
      },
      {
       "output_type": "stream",
       "stream": "stdout",
       "text": [
        "[info] Resolving org.jamon#jamon-runtime;2.3.1 ...\n",
        "[info] Resolving com.google.protobuf#protobuf-java;2.4.0a ...\n",
        "[info] Resolving com.sun.jersey#jersey-core;1.8 ...\n"
       ]
      },
      {
       "output_type": "stream",
       "stream": "stdout",
       "text": [
        "[info] Resolving com.sun.jersey#jersey-json;1.8 ...\n",
        "[info] Resolving org.codehaus.jettison#jettison;1.1 ...\n"
       ]
      },
      {
       "output_type": "stream",
       "stream": "stdout",
       "text": [
        "[info] Resolving stax#stax-api;1.0.1 ...\n",
        "[info] Resolving com.sun.xml.bind#jaxb-impl;2.2.3-1 ...\n"
       ]
      },
      {
       "output_type": "stream",
       "stream": "stdout",
       "text": [
        "[info] Resolving com.sun.jersey#jersey-server;1.8 ...\n",
        "[info] Resolving asm#asm;3.1 ...\n",
        "[info] Resolving javax.xml.bind#jaxb-api;2.1 ...\n"
       ]
      },
      {
       "output_type": "stream",
       "stream": "stdout",
       "text": [
        "[info] Resolving javax.xml.stream#stax-api;1.0-2 ...\n",
        "[info] Resolving javax.activation#activation;1.1 ...\n",
        "[info] Resolving com.thoughtworks.paranamer#paranamer;2.3 ...\n"
       ]
      },
      {
       "output_type": "stream",
       "stream": "stdout",
       "text": [
        "[info] Resolving tomcat#jasper-compiler;5.5.23 ...\n",
        "[info] Resolving tomcat#jasper-runtime;5.5.23 ...\n"
       ]
      },
      {
       "output_type": "stream",
       "stream": "stdout",
       "text": [
        "[info] Resolving commons-el#commons-el;1.0 ...\n",
        "[info] Resolving org.apache.hadoop#hadoop-core;1.2.1 ...\n",
        "[info] Resolving xmlenc#xmlenc;0.52 ...\n",
        "[info] Resolving org.apache.commons#commons-math;2.1 ...\n"
       ]
      },
      {
       "output_type": "stream",
       "stream": "stdout",
       "text": [
        "[info] Resolving commons-net#commons-net;1.4.1 ...\n",
        "[info] Resolving oro#oro;2.0.8 ...\n",
        "[info] Resolving net.java.dev.jets3t#jets3t;0.6.1 ...\n",
        "[info] Resolving hsqldb#hsqldb;1.8.0.10 ...\n"
       ]
      },
      {
       "output_type": "stream",
       "stream": "stdout",
       "text": [
        "[info] Resolving org.apache.hadoop#hadoop-client;1.2.1 ...\n",
        "[info] Resolving com.fasterxml.jackson.core#jackson-core;2.4.0 ...\n",
        "[info] Resolving com.fasterxml.jackson.core#jackson-databind;2.4.0-rc3 ...\n",
        "[info] Resolving com.fasterxml.jackson.core#jackson-annotations;2.4.0-rc3 ...\n",
        "[info] Resolving com.fasterxml.jackson.module#jackson-module-scala_2.10;2.4.0-rc2 ...\n"
       ]
      },
      {
       "output_type": "stream",
       "stream": "stdout",
       "text": [
        "[info] Resolving com.thoughtworks.paranamer#paranamer;2.6 ...\n",
        "[info] Resolving com.google.code.findbugs#jsr305;2.0.1 ...\n"
       ]
      },
      {
       "output_type": "stream",
       "stream": "stdout",
       "text": []
      },
      {
       "output_type": "stream",
       "stream": "stderr",
       "text": []
      }
     ],
     "prompt_number": 0
    },
    {
     "cell_type": "code",
     "collapsed": false,
     "input": [
      "import cc.nlplab._"
     ],
     "language": "python",
     "metadata": {
      "slideshow": {
       "slide_type": "skip"
      }
     },
     "outputs": [
      {
       "output_type": "stream",
       "stream": "stderr",
       "text": []
      },
      {
       "output_type": "stream",
       "stream": "stdout",
       "text": []
      }
     ],
     "prompt_number": 1
    },
    {
     "cell_type": "code",
     "collapsed": false,
     "input": [
      "LinggleQuery.QueryParser.parse(\"A _ B|C ?adj.|n. * v. ?D\").get"
     ],
     "language": "python",
     "metadata": {
      "slideshow": {
       "slide_type": "slide"
      }
     },
     "outputs": [
      {
       "output_type": "stream",
       "stream": "stdout",
       "text": []
      },
      {
       "output_type": "stream",
       "stream": "stderr",
       "text": []
      },
      {
       "metadata": {},
       "output_type": "pyout",
       "prompt_number": 2,
       "text": [
        "List(Term(A), WildCard, Or(Term(B), Term(C)), Maybe(Or(POS(adj.), POS(n.))), AnyWildCard, POS(v.), Maybe(Term(D)))"
       ]
      }
     ],
     "prompt_number": 2
    },
    {
     "cell_type": "code",
     "collapsed": false,
     "input": [
      "val lqs = LinggleQuery.parse(\"* adj. beach\").get \n",
      "lqs mkString \"\\n\""
     ],
     "language": "python",
     "metadata": {
      "slideshow": {
       "slide_type": "slide"
      }
     },
     "outputs": [
      {
       "output_type": "stream",
       "stream": "stdout",
       "text": []
      },
      {
       "output_type": "stream",
       "stream": "stderr",
       "text": []
      },
      {
       "metadata": {},
       "output_type": "pyout",
       "prompt_number": 24,
       "text": [
        "LQ(ts: \"beach\", l: 2, ps: 1, fs: [(0,adj.)])\n",
        "LQ(ts: \"beach\", l: 3, ps: 2, fs: [(1,adj.)])\n",
        "LQ(ts: \"beach\", l: 4, ps: 3, fs: [(2,adj.)])\n",
        "LQ(ts: \"beach\", l: 5, ps: 4, fs: [(3,adj.)])"
       ]
      }
     ],
     "prompt_number": 24
    },
    {
     "cell_type": "code",
     "collapsed": false,
     "input": [
      " val lgl = new Linggle(\"hbase-site.xml\", \"web1t-linggle\", \"web1t_unigrams_300000up.json\")"
     ],
     "language": "python",
     "metadata": {},
     "outputs": [
      {
       "output_type": "stream",
       "stream": "stdout",
       "text": []
      },
      {
       "output_type": "stream",
       "stream": "stderr",
       "text": []
      },
      {
       "metadata": {},
       "output_type": "pyout",
       "prompt_number": 6,
       "text": [
        "cc.nlplab.Linggle@50d9922f"
       ]
      }
     ],
     "prompt_number": 6
    }
   ],
   "metadata": {}
  }
 ]
}