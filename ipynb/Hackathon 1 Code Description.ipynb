{
 "metadata": {
  "name": "",
  "signature": "sha256:19a8069d8283bff93b591fe41e7988b7fa3624228ac6ad60c8e95388a36b58e4"
 },
 "nbformat": 3,
 "nbformat_minor": 0,
 "worksheets": [
  {
   "cells": [
    {
     "cell_type": "code",
     "collapsed": false,
     "input": [
      "%libraryDependencies += \"org.apache.hbase\" % \"hbase\" % \"0.94.18\""
     ],
     "language": "python",
     "metadata": {},
     "outputs": [
      {
       "output_type": "stream",
       "stream": "stderr",
       "text": []
      },
      {
       "output_type": "stream",
       "stream": "stdout",
       "text": []
      }
     ],
     "prompt_number": 8
    },
    {
     "cell_type": "code",
     "collapsed": false,
     "input": [
      "%libraryDependencies += \"org.apache.hadoop\" % \"hadoop-core\" % \"1.2.1\""
     ],
     "language": "python",
     "metadata": {},
     "outputs": [
      {
       "output_type": "stream",
       "stream": "stdout",
       "text": []
      },
      {
       "output_type": "stream",
       "stream": "stderr",
       "text": []
      }
     ],
     "prompt_number": 10
    },
    {
     "cell_type": "code",
     "collapsed": false,
     "input": [
      "%libraryDependencies += \"org.apache.hadoop\" % \"hadoop-client\" % \"1.2.1\""
     ],
     "language": "python",
     "metadata": {},
     "outputs": [
      {
       "output_type": "stream",
       "stream": "stderr",
       "text": []
      },
      {
       "output_type": "stream",
       "stream": "stdout",
       "text": []
      }
     ],
     "prompt_number": 11
    },
    {
     "cell_type": "code",
     "collapsed": false,
     "input": [
      "%libraryDependencies += \"com.fasterxml.jackson.core\" % \"jackson-core\" % \"2.4.0\""
     ],
     "language": "python",
     "metadata": {},
     "outputs": [
      {
       "output_type": "stream",
       "stream": "stdout",
       "text": []
      },
      {
       "output_type": "stream",
       "stream": "stderr",
       "text": []
      }
     ],
     "prompt_number": 12
    },
    {
     "cell_type": "code",
     "collapsed": false,
     "input": [
      "%libraryDependencies += \"com.fasterxml.jackson.core\" % \"jackson-databind\" % \"2.4.0-rc3\""
     ],
     "language": "python",
     "metadata": {},
     "outputs": [
      {
       "output_type": "stream",
       "stream": "stderr",
       "text": []
      },
      {
       "output_type": "stream",
       "stream": "stdout",
       "text": []
      }
     ],
     "prompt_number": 13
    },
    {
     "cell_type": "code",
     "collapsed": false,
     "input": [
      "%libraryDependencies += \"com.fasterxml.jackson.module\" % \"jackson-module-scala_2.10\" % \"2.4.0-rc2\""
     ],
     "language": "python",
     "metadata": {},
     "outputs": [
      {
       "output_type": "stream",
       "stream": "stdout",
       "text": []
      },
      {
       "output_type": "stream",
       "stream": "stderr",
       "text": []
      }
     ],
     "prompt_number": 14
    },
    {
     "cell_type": "code",
     "collapsed": false,
     "input": [
      "%libraryDependencies += \"com.thoughtworks.paranamer\" % \"paranamer\" % \"2.6\""
     ],
     "language": "python",
     "metadata": {},
     "outputs": [
      {
       "output_type": "stream",
       "stream": "stdout",
       "text": []
      },
      {
       "output_type": "stream",
       "stream": "stderr",
       "text": []
      }
     ],
     "prompt_number": 15
    },
    {
     "cell_type": "code",
     "collapsed": false,
     "input": [
      "%libraryDependencies += \"org.scala-lang\" % \"scala-parser-combinators\" % \"2.11.0-M4\""
     ],
     "language": "python",
     "metadata": {},
     "outputs": [
      {
       "output_type": "stream",
       "stream": "stdout",
       "text": []
      },
      {
       "output_type": "stream",
       "stream": "stderr",
       "text": []
      }
     ],
     "prompt_number": 17
    },
    {
     "cell_type": "code",
     "collapsed": false,
     "input": [
      "%resolvers += \"Maven Central Server\" at \"http://repo1.maven.org/maven2\""
     ],
     "language": "python",
     "metadata": {},
     "outputs": [
      {
       "output_type": "stream",
       "stream": "stdout",
       "text": []
      },
      {
       "output_type": "stream",
       "stream": "stderr",
       "text": []
      }
     ],
     "prompt_number": 16
    },
    {
     "cell_type": "code",
     "collapsed": false,
     "input": [
      "%update"
     ],
     "language": "python",
     "metadata": {},
     "outputs": [
      {
       "output_type": "stream",
       "stream": "stdout",
       "text": [
        "[warn] Binary version (2.11.0-M4) for dependency org.scala-lang#scala-parser-combinators;2.11.0-M4\n",
        "[warn] \tin org.example#Untitled;1 differs from Scala binary version in project (2.10).\n",
        "[info] Resolving com.fasterxml.jackson.core#jackson-core;2.4.0 ...\n",
        "[info] Resolving com.fasterxml.jackson.core#jackson-databind;2.4.0-rc3 ...\n",
        "[info] Resolving com.fasterxml.jackson.core#jackson-annotations;2.4.0-rc3 ...\n",
        "[info] Resolving com.fasterxml.jackson.module#jackson-module-scala_2.10;2.4.0-rc2 ...\n",
        "[info] Resolving org.scala-lang#scala-library;2.10.4 ...\n",
        "[info] Resolving com.thoughtworks.paranamer#paranamer;2.6 ...\n",
        "[info] Resolving com.google.code.findbugs#jsr305;2.0.1 ...\n",
        "[info] Resolving com.google.guava#guava;15.0 ...\n",
        "[info] Resolving org.apache.hbase#hbase;0.94.18 ...\n",
        "[info] Resolving com.yammer.metrics#metrics-core;2.1.2 ...\n",
        "[info] Resolving commons-cli#commons-cli;1.2 ...\n",
        "[info] Resolving commons-configuration#commons-configuration;1.6 ...\n",
        "[info] Resolving commons-collections#commons-collections;3.2.1 ...\n",
        "[info] Resolving commons-logging#commons-logging;1.1.1 ...\n",
        "[info] Resolving commons-digester#commons-digester;1.8 ...\n",
        "[info] Resolving commons-beanutils#commons-beanutils;1.7.0 ...\n",
        "[info] Resolving commons-beanutils#commons-beanutils-core;1.8.0 ...\n",
        "[info] Resolving com.github.stephenc.high-scale-lib#high-scale-lib;1.1.1 ...\n",
        "[info] Resolving commons-codec#commons-codec;1.4 ...\n",
        "[info] Resolving commons-httpclient#commons-httpclient;3.1 ...\n",
        "[info] Resolving commons-io#commons-io;2.1 ...\n",
        "[info] Resolving commons-lang#commons-lang;2.5 ...\n",
        "[info] Resolving log4j#log4j;1.2.16 ...\n",
        "[info] Resolving org.apache.avro#avro;1.5.3 ...\n",
        "[info] Resolving org.codehaus.jackson#jackson-mapper-asl;1.7.3 ...\n",
        "[info] Resolving org.xerial.snappy#snappy-java;1.0.3.2 ...\n",
        "[info] Resolving org.apache.avro#avro-ipc;1.5.3 ...\n",
        "[info] Resolving org.mortbay.jetty#jetty;6.1.26 ...\n",
        "[info] Resolving org.mortbay.jetty#jetty-util;6.1.26 ...\n",
        "[info] Resolving org.mortbay.jetty#servlet-api;2.5-20081211 ...\n",
        "[info] Resolving org.jboss.netty#netty;3.2.4.Final ...\n",
        "[info] Resolving org.apache.velocity#velocity;1.7 ...\n",
        "[info] Resolving org.apache.zookeeper#zookeeper;3.4.5 ...\n",
        "[info] Resolving org.apache.thrift#libthrift;0.8.0 ...\n",
        "[info] Resolving org.apache.httpcomponents#httpclient;4.1.2 ...\n",
        "[info] Resolving org.apache.httpcomponents#httpcore;4.1.3 ...\n",
        "[info] Resolving org.jruby#jruby-complete;1.6.5 ...\n",
        "[info] Resolving org.mortbay.jetty#jsp-2.1;6.1.14 ...\n",
        "[info] Resolving org.eclipse.jdt#core;3.1.1 ...\n",
        "[info] Resolving org.mortbay.jetty#jsp-api-2.1;6.1.14 ...\n"
       ]
      },
      {
       "output_type": "stream",
       "stream": "stdout",
       "text": [
        "[info] Resolving org.mortbay.jetty#servlet-api-2.5;6.1.14 ...\n",
        "[info] Resolving org.codehaus.jackson#jackson-core-asl;1.8.8 ...\n",
        "[info] Resolving org.codehaus.jackson#jackson-mapper-asl;1.8.8 ...\n"
       ]
      },
      {
       "output_type": "stream",
       "stream": "stdout",
       "text": [
        "[info] Resolving org.codehaus.jackson#jackson-jaxrs;1.8.8 ...\n",
        "[info] Resolving org.codehaus.jackson#jackson-xc;1.8.8 ...\n"
       ]
      },
      {
       "output_type": "stream",
       "stream": "stdout",
       "text": [
        "[info] Resolving org.slf4j#slf4j-api;1.4.3 ...\n",
        "[info] Resolving org.slf4j#slf4j-log4j12;1.4.3 ...\n",
        "[info] Resolving org.jamon#jamon-runtime;2.3.1 ...\n"
       ]
      },
      {
       "output_type": "stream",
       "stream": "stdout",
       "text": [
        "[info] Resolving com.google.protobuf#protobuf-java;2.4.0a ...\n",
        "[info] Resolving com.sun.jersey#jersey-core;1.8 ...\n"
       ]
      },
      {
       "output_type": "stream",
       "stream": "stdout",
       "text": [
        "[info] Resolving com.sun.jersey#jersey-json;1.8 ...\n",
        "[info] Resolving org.codehaus.jettison#jettison;1.1 ...\n"
       ]
      },
      {
       "output_type": "stream",
       "stream": "stdout",
       "text": [
        "[info] Resolving stax#stax-api;1.0.1 ...\n",
        "[info] Resolving com.sun.xml.bind#jaxb-impl;2.2.3-1 ...\n"
       ]
      },
      {
       "output_type": "stream",
       "stream": "stdout",
       "text": [
        "[info] Resolving org.codehaus.jackson#jackson-core-asl;1.7.1 ...\n",
        "[info] Resolving org.codehaus.jackson#jackson-mapper-asl;1.7.1 ...\n"
       ]
      },
      {
       "output_type": "stream",
       "stream": "stdout",
       "text": [
        "[info] Resolving org.codehaus.jackson#jackson-jaxrs;1.7.1 ...\n",
        "[info] Resolving org.codehaus.jackson#jackson-xc;1.7.1 ...\n",
        "[info] Resolving com.sun.jersey#jersey-server;1.8 ...\n"
       ]
      },
      {
       "output_type": "stream",
       "stream": "stdout",
       "text": [
        "[info] Resolving asm#asm;3.1 ...\n",
        "[info] Resolving javax.xml.bind#jaxb-api;2.1 ...\n",
        "[info] Resolving javax.xml.stream#stax-api;1.0-2 ...\n"
       ]
      },
      {
       "output_type": "stream",
       "stream": "stdout",
       "text": [
        "[info] Resolving javax.activation#activation;1.1 ...\n",
        "[info] Resolving tomcat#jasper-compiler;5.5.23 ...\n"
       ]
      },
      {
       "output_type": "stream",
       "stream": "stdout",
       "text": [
        "[info] Resolving tomcat#jasper-runtime;5.5.23 ...\n",
        "[info] Resolving commons-el#commons-el;1.0 ...\n",
        "[info] Resolving org.apache.hadoop#hadoop-core;1.2.1 ...\n"
       ]
      },
      {
       "output_type": "stream",
       "stream": "stdout",
       "text": [
        "[info] Resolving xmlenc#xmlenc;0.52 ...\n",
        "[info] Resolving org.apache.commons#commons-math;2.1 ...\n",
        "[info] Resolving commons-net#commons-net;1.4.1 ...\n",
        "[info] Resolving oro#oro;2.0.8 ...\n"
       ]
      },
      {
       "output_type": "stream",
       "stream": "stdout",
       "text": [
        "[info] Resolving net.java.dev.jets3t#jets3t;0.6.1 ...\n",
        "[info] Resolving hsqldb#hsqldb;1.8.0.10 ...\n"
       ]
      },
      {
       "output_type": "stream",
       "stream": "stdout",
       "text": [
        "[info] Resolving org.apache.hadoop#hadoop-client;1.2.1 ...\n",
        "[info] Resolving org.scala-lang#scala-parser-combinators;2.11.0-M4 ...\n"
       ]
      },
      {
       "output_type": "stream",
       "stream": "stdout",
       "text": []
      },
      {
       "output_type": "stream",
       "stream": "stderr",
       "text": []
      }
     ],
     "prompt_number": 0
    },
    {
     "cell_type": "code",
     "collapsed": false,
     "input": [
      "import java.io.FileInputStream\n",
      "import java.nio.file.{Paths, Files}\n",
      "\n",
      "import org.apache.hadoop.conf.Configuration\n",
      "import org.apache.hadoop.hbase.{HBaseConfiguration, HTableDescriptor, HColumnDescriptor}\n",
      "import org.apache.hadoop.hbase.client.{HBaseAdmin,HTable,Put,Get}\n",
      "import org.apache.hadoop.hbase.util.{Bytes, Writables}\n",
      "\n",
      "import scala.collection.JavaConversions._\n",
      "\n",
      "import io.Source\n",
      "\n",
      "import com.fasterxml.jackson.databind.ObjectMapper \n",
      "import com.fasterxml.jackson.module.scala.DefaultScalaModule\n",
      "import com.fasterxml.jackson.module.scala.experimental.ScalaObjectMapper\n"
     ],
     "language": "python",
     "metadata": {},
     "outputs": [
      {
       "output_type": "stream",
       "stream": "stdout",
       "text": []
      },
      {
       "output_type": "stream",
       "stream": "stderr",
       "text": []
      }
     ],
     "prompt_number": 1
    },
    {
     "cell_type": "markdown",
     "metadata": {},
     "source": [
      "## UnigramMap class \u8207\u5176 companion object\n",
      "\u6b64 class \u7528\u65bc\u7522\u751f unigram -> index number \u8207 index number -> unigram \u7684 Map\u3002\u81ea\u52d5\u4f9d\u64da\u50b3\u5165\u578b\u5225\u5224\u65b7\u8f49\u63db\u65b9\u5411\u3002"
     ]
    },
    {
     "cell_type": "code",
     "collapsed": false,
     "input": [
      "class UnigramMap(toIdxMap:Map[String, Int], fromIdxMap:Map[Int, String]) {\n",
      "  def apply(unigram:String) = toIdxMap(unigram)\n",
      "  def apply(count:Int) = fromIdxMap(count)\n",
      "  def contains(unigram:String) = toIdxMap contains unigram\n",
      "  def contains(count:Int) = fromIdxMap contains count\n",
      "}\n",
      "\n",
      "object UnigramMap {\n",
      "  def apply(jsonPath: String) = {\n",
      "    val mapper = new ObjectMapper() with ScalaObjectMapper\n",
      "    mapper.registerModule(DefaultScalaModule)\n",
      "    val _to:Map[String, Int] =  mapper.readValue[Map[String,Int]](new java.io.File (jsonPath))\n",
      "    val _from = _to map {_.swap}\n",
      "    new UnigramMap(_to, _from)\n",
      "  }\n",
      "}"
     ],
     "language": "python",
     "metadata": {},
     "outputs": [
      {
       "output_type": "stream",
       "stream": "stdout",
       "text": []
      },
      {
       "output_type": "stream",
       "stream": "stderr",
       "text": []
      },
      {
       "metadata": {},
       "output_type": "pyout",
       "prompt_number": 2,
       "text": [
        "UnigramMap$@337e9c58"
       ]
      }
     ],
     "prompt_number": 2
    },
    {
     "cell_type": "markdown",
     "metadata": {},
     "source": [
      "### UnigramMap \u6e2c\u8a66"
     ]
    },
    {
     "cell_type": "code",
     "collapsed": false,
     "input": [
      "val uniMap = UnigramMap(\"web1t_unigrams_300000up.json\")\n",
      "println(uniMap(10), uniMap(150))\n",
      "println(uniMap(\"to\"), uniMap(\"these\"))"
     ],
     "language": "python",
     "metadata": {},
     "outputs": [
      {
       "output_type": "stream",
       "stream": "stdout",
       "text": [
        "(to,these)\n",
        "(10,150)\n"
       ]
      },
      {
       "output_type": "stream",
       "stream": "stderr",
       "text": []
      }
     ],
     "prompt_number": 11
    },
    {
     "cell_type": "markdown",
     "metadata": {},
     "source": [
      "## \u7528\u4f86\u7be9\u9078 ngram \u7684 filter method\n",
      "\u501f\u7531 regex \u6bd4\u5c0d\u5224\u65b7\u662f\u5426\u8981\u4fdd\u7559\u6b64 ngram\u3002\n",
      "scala \u5167\u5efa\u7684 `forall method` \u53ef\u5feb\u901f\u6bd4\u5c0d Vector \u5167\u7684\u6240\u6709\u9805\u76ee\u6eff\u8db3\u689d\u4ef6"
     ]
    },
    {
     "cell_type": "code",
     "collapsed": false,
     "input": [
      "  def ngramFilter(unigramMap: UnigramMap)(ngram: Vector[String] ): Boolean = {\n",
      "    def joinString(s: String, ss: String* ) = ss mkString s\n",
      "    val WORDS_RE = raw\"\"\"'?[a-zA-Z]+(['.][a-zA-Z]+)*\\.?$$\"\"\"\n",
      "    val END_SYMBOL_RE = raw\"[-;,:.?!]$$\"\n",
      "    val INIT_SYMBOL_RE = raw\"[-;,:]$$\"\n",
      "    val SENTENCE_TAG_RE = raw\"</?S>$$\"\n",
      "    val LAST_RE = joinString(\"|\", WORDS_RE, END_SYMBOL_RE, SENTENCE_TAG_RE)\n",
      "    val INIT_RE = joinString(\"|\", WORDS_RE, INIT_SYMBOL_RE, SENTENCE_TAG_RE)\n",
      "\n",
      "    def initMatch(unigramMap: UnigramMap)(word: String ) =\n",
      "      word.matches(INIT_RE) && (unigramMap contains word)\n",
      "\n",
      "    def lastMatch(unigramMap: UnigramMap)(word: String ) =\n",
      "      word.matches(LAST_RE) && (unigramMap contains word)\n",
      "\n",
      "    (ngram.init forall initMatch(unigramMap)) && lastMatch(unigramMap)(ngram.last)\n",
      "  }"
     ],
     "language": "python",
     "metadata": {},
     "outputs": [
      {
       "output_type": "stream",
       "stream": "stdout",
       "text": []
      },
      {
       "output_type": "stream",
       "stream": "stderr",
       "text": []
      }
     ],
     "prompt_number": 15
    },
    {
     "cell_type": "markdown",
     "metadata": {},
     "source": [
      "### ngramFilter \u6e2c\u8a66"
     ]
    },
    {
     "cell_type": "code",
     "collapsed": false,
     "input": [
      "ngramFilter(uniMap)(Vector(\"hello\", \"world\"))"
     ],
     "language": "python",
     "metadata": {},
     "outputs": [
      {
       "output_type": "stream",
       "stream": "stdout",
       "text": []
      },
      {
       "output_type": "stream",
       "stream": "stderr",
       "text": []
      },
      {
       "metadata": {},
       "output_type": "pyout",
       "prompt_number": 16,
       "text": [
        "true"
       ]
      }
     ],
     "prompt_number": 16
    },
    {
     "cell_type": "code",
     "collapsed": false,
     "input": [
      "ngramFilter(uniMap)(Vector(\"3a5\", \"mobile\"))"
     ],
     "language": "python",
     "metadata": {},
     "outputs": [
      {
       "output_type": "stream",
       "stream": "stderr",
       "text": []
      },
      {
       "output_type": "stream",
       "stream": "stdout",
       "text": []
      },
      {
       "metadata": {},
       "output_type": "pyout",
       "prompt_number": 17,
       "text": [
        "false"
       ]
      }
     ],
     "prompt_number": 17
    },
    {
     "cell_type": "markdown",
     "metadata": {},
     "source": [
      "## \u5f9e ngram \u62bd\u53d6\u7d66\u5b9a\u7684\u4f4d\u7f6e\u7684 words\n",
      "\u4f7f\u7528 zipWithIndex \u8207 filter, map \u9054\u6210"
     ]
    },
    {
     "cell_type": "code",
     "collapsed": false,
     "input": [
      "  def selectNgram(ngram: Vector[String], selector: Set[Int]) = {\n",
      "    ngram.zipWithIndex filter( selector contains _._2 ) map (_._1)\n",
      "  }"
     ],
     "language": "python",
     "metadata": {},
     "outputs": [
      {
       "output_type": "stream",
       "stream": "stderr",
       "text": []
      },
      {
       "output_type": "stream",
       "stream": "stdout",
       "text": []
      }
     ],
     "prompt_number": 19
    },
    {
     "cell_type": "markdown",
     "metadata": {},
     "source": [
      "### selectNgram \u6e2c\u8a66"
     ]
    },
    {
     "cell_type": "code",
     "collapsed": false,
     "input": [
      "selectNgram(Vector(\"aa\", \"bb\", \"cc\", \"dd\", \"ee\"), Set(0, 2, 4))"
     ],
     "language": "python",
     "metadata": {},
     "outputs": [
      {
       "output_type": "stream",
       "stream": "stdout",
       "text": []
      },
      {
       "output_type": "stream",
       "stream": "stderr",
       "text": []
      },
      {
       "metadata": {},
       "output_type": "pyout",
       "prompt_number": 20,
       "text": [
        "Vector(aa, cc, ee)"
       ]
      }
     ],
     "prompt_number": 20
    },
    {
     "cell_type": "markdown",
     "metadata": {},
     "source": [
      "## \u7522\u751f HBase \u7684 rowkey \u8cc7\u6599\n",
      "\u683c\u5f0f\u70ba `[selectedWordsIndexes][count][hashcode]`\uff0c\u6bcf\u9805\u7686\u9700\u8f49\u63db\u6210 Byte Array"
     ]
    },
    {
     "cell_type": "code",
     "collapsed": false,
     "input": [
      "  val md = java.security.MessageDigest.getInstance(\"SHA-1\")\n",
      "  def ngramHasher(ngram: Vector[String]) = md.digest(ngram.mkString(\" \").getBytes).slice(0,4)\n",
      "\n",
      "  def toRowKey(ngram: Vector[String], count:Int, selector: Set[Int], unigramMap: UnigramMap): Array[Byte] = {\n",
      "    val selectedNgram = selectNgram(ngram, selector)\n",
      "    val selectedBytes = ( selectedNgram map { ss =>\n",
      "      Bytes.toBytes(unigramMap(ss))\n",
      "    } ) reduce {_++_}\n",
      "    val countBytes =  Bytes.toBytes(Int.MaxValue - count)\n",
      "    val ngramHashBytes = ngramHasher(ngram)\n",
      "    selectedBytes ++ countBytes ++ ngramHashBytes\n",
      "  }"
     ],
     "language": "python",
     "metadata": {},
     "outputs": [
      {
       "output_type": "stream",
       "stream": "stderr",
       "text": []
      },
      {
       "output_type": "stream",
       "stream": "stdout",
       "text": []
      }
     ],
     "prompt_number": 21
    },
    {
     "cell_type": "markdown",
     "metadata": {},
     "source": [
      "## toRowKey \u6e2c\u8a66"
     ]
    },
    {
     "cell_type": "code",
     "collapsed": false,
     "input": [
      "toRowKey(Vector(\"hello\",\"world\", \"I\", \"am\", \"here\"), 2345, Set(0,2,3), uniMap)"
     ],
     "language": "python",
     "metadata": {},
     "outputs": [
      {
       "output_type": "stream",
       "stream": "stdout",
       "text": []
      },
      {
       "output_type": "stream",
       "stream": "stderr",
       "text": []
      },
      {
       "metadata": {},
       "output_type": "pyout",
       "prompt_number": 28,
       "text": [
        "[B@4cbd12ea"
       ]
      }
     ],
     "prompt_number": 28
    },
    {
     "cell_type": "code",
     "collapsed": false,
     "input": [
      "  def toNgramPuts(ngram: Vector[String], count: Int, unigramMap: UnigramMap): Iterator[Put] =  {\n",
      "    val selectors = (List.range(0, ngram.length).toSet.subsets drop 1)\n",
      "    selectors map { sel =>\n",
      "      val rowKey = toRowKey(ngram, count, sel, unigramMap)\n",
      "      val column = s\"${ngram.length}-${sel.mkString}\".getBytes\n",
      "      val value = (ngram.mkString(\" \") + \"\\t\" + count.toString).getBytes\n",
      "      val put_data = new Put(rowKey)\n",
      "      put_data.add(\"sel\".getBytes, column, value)\n",
      "    }\n",
      "  }"
     ],
     "language": "python",
     "metadata": {},
     "outputs": []
    },
    {
     "cell_type": "markdown",
     "metadata": {},
     "source": [
      "## \u7522\u751f HBase \u7684 Puts\n",
      "\u4e00\u500b ngram \u56e0\u70ba\u5b57\u7684\u5404\u7a2e\u7d44\u5408\uff0c\u4ee5 5gram \u4f86\u8aaa\uff0c\u6703\u7522\u751f 31 \u500b HBase Puts\u3002\n",
      "\n",
      "\u5404\u7a2e\u7d44\u5408\u4f7f\u7528 scala \u5167\u5efa Set \u7684 subsets \u7522\u751f\u3002"
     ]
    },
    {
     "cell_type": "code",
     "collapsed": false,
     "input": [
      "val selectors = (List.range(0, 5).toSet.subsets drop 1).toList"
     ],
     "language": "python",
     "metadata": {},
     "outputs": [
      {
       "output_type": "stream",
       "stream": "stdout",
       "text": []
      },
      {
       "output_type": "stream",
       "stream": "stderr",
       "text": []
      },
      {
       "metadata": {},
       "output_type": "pyout",
       "prompt_number": 30,
       "text": [
        "List(Set(0), Set(1), Set(2), Set(3), Set(4), Set(0, 1), Set(0, 2), Set(0, 3), Set(0, 4), Set(1, 2), Set(1, 3), Set(1, 4), Set(2, 3), Set(2, 4), Set(3, 4), Set(0, 1, 2), Set(0, 1, 3), Set(0, 1, 4), Set(0, 2, 3), Set(0, 2, 4), Set(0, 3, 4), Set(1, 2, 3), Set(1, 2, 4), Set(1, 3, 4), Set(2, 3, 4), Set(0, 1, 2, 3), Set(0, 1, 2, 4), Set(0, 1, 3, 4), Set(0, 2, 3, 4), Set(1, 2, 3, 4), Set(0, 1, 2, 3, 4))"
       ]
      }
     ],
     "prompt_number": 30
    },
    {
     "cell_type": "code",
     "collapsed": false,
     "input": [
      "toNgramPuts(Vector(\"hello\", \"world\", \"hi\"), 3333, uniMap).toList"
     ],
     "language": "python",
     "metadata": {},
     "outputs": [
      {
       "output_type": "stream",
       "stream": "stderr",
       "text": []
      },
      {
       "output_type": "stream",
       "stream": "stdout",
       "text": []
      },
      {
       "metadata": {},
       "output_type": "pyout",
       "prompt_number": 31,
       "text": [
        "List({\"totalColumns\":1,\"families\":{\"sel\":[{\"timestamp\":9223372036854775807,\"qualifier\":\"3-0\",\"vlen\":19}]},\"row\":\"\\\\x00\\\\x000\\\\xF2\\\\x00\\\\x7F\\\\xFF\\\\xF2\\\\xFAS\\\\x7Fi\\\\x92\"}, {\"totalColumns\":1,\"families\":{\"sel\":[{\"timestamp\":9223372036854775807,\"qualifier\":\"3-1\",\"vlen\":19}]},\"row\":\"\\\\x00\\\\x00\\\\x01V\\\\x00\\\\x7F\\\\xFF\\\\xF2\\\\xFAS\\\\x7Fi\\\\x92\"}, {\"totalColumns\":1,\"families\":{\"sel\":[{\"timestamp\":9223372036854775807,\"qualifier\":\"3-2\",\"vlen\":19}]},\"row\":\"\\\\x00\\\\x00\\\\x19k\\\\x00\\\\x7F\\\\xFF\\\\xF2\\\\xFAS\\\\x7Fi\\\\x92\"}, {\"totalColumns\":1,\"families\":{\"sel\":[{\"timestamp\":9223372036854775807,\"qualifier\":\"3-01\",\"vlen\":19}]},\"row\":\"\\\\x00\\\\x000\\\\xF2\\\\x00\\\\x00\\\\x01V\\\\x00\\\\x7F\\\\xFF\\\\xF2\\\\xFAS\\\\x7Fi\\\\x92\"}, {\"totalColumns\":1,\"families\":{\"sel\":[{\"timestamp\":9223372036854775807,\"qualifier\":\"3-02\",\"vlen\":19}]},\"row\":\"\\\\x00\\\\x000\\\\xF2\\\\x00\\\\x00\\\\x19k\\\\x00\\\\x7F\\\\xFF\\\\xF2\\\\xFAS\\\\x7Fi\\\\x92\"}, {\"totalColumns\":1,\"families\":{\"sel\":[{\"timestamp\":9223372036854775807,\"qualifier\":\"3-12\",\"vlen\":19}]},\"row\":\"\\\\x00\\\\x00\\\\x01V\\\\x00\\\\x00\\\\x19k\\\\x00\\\\x7F\\\\xFF\\\\xF2\\\\xFAS\\\\x7Fi\\\\x92\"}, {\"totalColumns\":1,\"families\":{\"sel\":[{\"timestamp\":9223372036854775807,\"qualifier\":\"3-012\",\"vlen\":19}]},\"row\":\"\\\\x00\\\\x000\\\\xF2\\\\x00\\\\x00\\\\x01V\\\\x00\\\\x00\\\\x19k\\\\x00\\\\x7F\\\\xFF\\\\xF2\\\\xFAS\\\\x7Fi\\\\x92\"})"
       ]
      }
     ],
     "prompt_number": 31
    },
    {
     "cell_type": "markdown",
     "metadata": {},
     "source": [
      "## \u521d\u59cb\u5316 hbase object"
     ]
    },
    {
     "cell_type": "code",
     "collapsed": false,
     "input": [
      "  def hbaseInit(hbaseTblName: String, conf: Configuration):HTable = {\n",
      "    val config = HBaseConfiguration.create(conf)\n",
      "    val hbase = new HBaseAdmin(config)\n",
      "\n",
      "    if (!hbase.tableExists(hbaseTblName)) {\n",
      "      println(s\"\\033[1;33mhbase table doesn't exist, creating...: $hbaseTblName\\033[m\")\n",
      "      val mathTable = new HTableDescriptor(hbaseTblName)\n",
      "      val gradeCol = new HColumnDescriptor(\"sel\")\n",
      "      mathTable.addFamily(gradeCol)\n",
      "      hbase.createTable(mathTable)\n",
      "    } else println(s\"\\033[1;33m$hbaseTblName exists\\033[m\")\n",
      "\n",
      "    new HTable(config, hbaseTblName)\n",
      "  }"
     ],
     "language": "python",
     "metadata": {},
     "outputs": []
    },
    {
     "cell_type": "markdown",
     "metadata": {},
     "source": [
      "## Main function\n",
      "1. \u521d\u59cb\u5316 HBase object\n",
      "2. \u8b80\u53d6 stdin \u7522\u751f puts\n",
      "3. puts \u5beb\u5165 HBase\n",
      "\n",
      "\u7531\u65bc\u8655\u7406\u7684\u8cc7\u6599\u91cf\u975e\u5e38\u5927\uff0c\u4f7f\u7528 iterator \u53ef\u907f\u514d\u5927\u91cf\u7684\u5360\u7528\u8a18\u61b6\u9ad4\u7a7a\u9593\u3002\n",
      "\u5728 ngramPuts \u90e8\u5206\uff0c\u7531\u65bc getLines \u7522\u751f\u7684\u662f iterator\uff0c\u7d93\u904e flatmap, map \u7684 for yield syntax sugar \u5f8c\uff0cngramPuts \u4e5f\u6703\u662f iterator\u3002\n",
      "\n",
      "\u5728 hbase \u7684 API\uff0c\u53ef\u4ee5\u4e00\u6b21 put \u5927\u91cf\u7684\u8cc7\u6599\u4ee5\u964d\u4f4e overhead\u3002ngramPuts \u7684 iterator \u53ef\u4f7f\u7528 grouped \u5206\u6b21\u53d6\u51fa\u4e00\u5b9a\u91cf\u7684 puts \u8655\u7406\u4f86\u589e\u52a0\u6548\u7387\u3002"
     ]
    },
    {
     "cell_type": "code",
     "collapsed": false,
     "input": [
      "  def main(args: Array[String]) {\n",
      "\n",
      "    val confFileNames = Vector(\"hbase-site.xml\")\n",
      "    val conf = new Configuration\n",
      "    confFileNames foreach { path => \n",
      "      conf.addResource(new FileInputStream(path))}\n",
      "    val hbaseTable = hbaseInit(args(1), conf)              // \u521d\u59cb\u5316 hbase object\n",
      "\n",
      "    val unigramMap = UnigramMap(args(0))                   // \u521d\u59cb\u5316 unigramMap\n",
      "\n",
      "    val NGRAM_RE = raw\"\"\"([^\\t]+)\\t([0-9]+)\"\"\".r\n",
      "    val ngramPuts = for {                                  // \u7522\u751f puts \u7684 iterator\n",
      "      NGRAM_RE(_ngram, _count) <- io.Source.stdin.getLines // getLines: iterator\n",
      "      ngram = _ngram.split(\" \").toVector\n",
      "      if ngramFilter(unigramMap)(ngram)\n",
      "      count = _count.toInt\n",
      "      put <- toNgramPuts(ngram, count, unigramMap) \n",
      "    } yield put \n",
      "\n",
      "    val groupSize = 5000                                  // \u4ee5 5000 \u4e00\u7d44\u4e00\u7d44\u8655\u7406 ngramPuts\n",
      "    (ngramPuts grouped groupSize).zipWithIndex foreach { case (puts, idx) =>\n",
      "      println(idx)\n",
      "      hbaseTable.put(puts)\n",
      "    }\n",
      "  }"
     ],
     "language": "python",
     "metadata": {},
     "outputs": [
      {
       "output_type": "stream",
       "stream": "stderr",
       "text": []
      },
      {
       "output_type": "stream",
       "stream": "stdout",
       "text": []
      }
     ],
     "prompt_number": 14
    }
   ],
   "metadata": {}
  }
 ]
}